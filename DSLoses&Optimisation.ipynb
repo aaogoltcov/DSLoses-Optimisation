{
 "cells": [
  {
   "cell_type": "code",
   "execution_count": 15,
   "metadata": {},
   "outputs": [],
   "source": [
    "import numpy as np\n",
    "import sklearn\n",
    "from sklearn.datasets import load_iris\n",
    "from sklearn.preprocessing import LabelEncoder\n",
    "from sklearn.model_selection import train_test_split\n",
    "from sklearn.preprocessing import StandardScaler\n",
    "from sklearn.linear_model import SGDClassifier\n",
    "from sklearn.pipeline import make_pipeline\n",
    "import seaborn as sn\n",
    "from sklearn.metrics import confusion_matrix\n",
    "from tqdm import tqdm\n",
    "\n",
    "import logging\n",
    "logger = logging.getLogger()\n",
    "logger.setLevel(logging.CRITICAL)\n",
    "import time\n",
    "\n",
    "import lasagne\n",
    "import theano.tensor as tensor\n",
    "import theano\n",
    "from lasagne.nonlinearities import softmax\n",
    "from lasagne.layers import InputLayer, DenseLayer, get_output\n",
    "from lasagne.updates import nesterov_momentum\n",
    "from lasagne.updates import rmsprop\n",
    "from numpy import savez"
   ]
  },
  {
   "cell_type": "code",
   "execution_count": 2,
   "metadata": {},
   "outputs": [],
   "source": [
    "# Реализовать самостоятельно логистическую регрессию\n",
    "# В качестве dataset'а взять Iris, оставив 2 класса:\n",
    "    # Iris Versicolor\n",
    "    # Iris Virginica"
   ]
  },
  {
   "cell_type": "code",
   "execution_count": 3,
   "metadata": {},
   "outputs": [
    {
     "name": "stderr",
     "output_type": "stream",
     "text": [
      "/opt/anaconda3/lib/python3.7/site-packages/sklearn/preprocessing/_label.py:235: DataConversionWarning: A column-vector y was passed when a 1d array was expected. Please change the shape of y to (n_samples, ), for example using ravel().\n",
      "  y = column_or_1d(y, warn=True)\n",
      "/opt/anaconda3/lib/python3.7/site-packages/sklearn/preprocessing/_label.py:268: DataConversionWarning: A column-vector y was passed when a 1d array was expected. Please change the shape of y to (n_samples, ), for example using ravel().\n",
      "  y = column_or_1d(y, warn=True)\n"
     ]
    }
   ],
   "source": [
    "# Получаем датасет только из 2-х цветков (0 - Iris Versicolor, 1 - Iris Virginica)\n",
    "iris = load_iris()\n",
    "data = np.append(iris.data, [[i] for i in iris.target], axis=1)\n",
    "data = data[data[:, 4] != 0]\n",
    "X = np.delete(data, 4, axis=1)\n",
    "y = np.delete(data, [0, 1, 2, 3], axis=1)\n",
    "y = np.array([LabelEncoder().fit(y).transform(y)]).T\n",
    "X_train, X_test, y_train, y_test = train_test_split(X, y, test_size=0.3, random_state=42)\n",
    "X_val = X_train\n",
    "y_val = y_train"
   ]
  },
  {
   "cell_type": "code",
   "execution_count": 4,
   "metadata": {},
   "outputs": [],
   "source": [
    "# Обучить ее методом градиентного спуска"
   ]
  },
  {
   "cell_type": "code",
   "execution_count": 5,
   "metadata": {},
   "outputs": [
    {
     "name": "stdout",
     "output_type": "stream",
     "text": [
      "Делаем расчет для alpha [0.0001, 0.001, 0.01, 0.1, 1, 10, 100, 1000]\n"
     ]
    },
    {
     "name": "stderr",
     "output_type": "stream",
     "text": [
      "100%|██████████| 8/8 [00:50<00:00,  6.37s/it]"
     ]
    },
    {
     "name": "stdout",
     "output_type": "stream",
     "text": [
      "Мин. ошибка 0.02077772284144448 при альфа 10 и N итераций 21 с весами:\n",
      " [[-211.3390753 ]\n",
      " [-190.43848797]\n",
      " [ 177.63367678]\n",
      " [ 152.24265048]]\n"
     ]
    },
    {
     "name": "stderr",
     "output_type": "stream",
     "text": [
      "\n"
     ]
    }
   ],
   "source": [
    "# Вариант 1: поиск минимума через сигмоиду\n",
    "sigmoid = lambda x: 1 / ( 1 + np.exp(-x) )              # сигмоида\n",
    "sigmoid_deriv = lambda x: x * (1 - x)                   # производная сигмоиды\n",
    "weights = np.zeros((X.shape[1], 1))                     # определяем начальные веса\n",
    "\n",
    "best_error = max(y)\n",
    "\n",
    "alphas = [0.0001, 0.001, 0.01, 0.1, 1, 10, 100, 1000]    # шаг изменения веса\n",
    "print(f'Делаем расчет для alpha {alphas}')\n",
    "time.sleep(1)\n",
    "\n",
    "for alpha in tqdm(alphas):\n",
    "    for iter in range(100000):\n",
    "        l0 = X                                           # первый слой сети определяемый входными параметрами\n",
    "        l1 = sigmoid(np.dot(l0, weights))                # второй слой сети определяем входными параметрами и весами\n",
    "        l1_error = l1 - y                                # расчет ошибки\n",
    "        l1_delta = l1_error * sigmoid_deriv(l1)          # вычисляем производную, взвешенную по ошибкам\n",
    "        weights -= alpha * np.dot(l0.T, l1_delta)        # обновляем веса\n",
    "\n",
    "        abs_error = np.mean(np.abs(l1_error))            # записываем лучший результат\n",
    "        if (abs_error < best_error):\n",
    "            best_error = abs_error\n",
    "            best_alpha = alpha\n",
    "            best_range = iter\n",
    "            best_weights = weights\n",
    "\n",
    "print(f'Мин. ошибка {best_error} при альфа {best_alpha} и N итераций {best_range} с весами:\\n {best_weights}')"
   ]
  },
  {
   "cell_type": "code",
   "execution_count": 6,
   "metadata": {},
   "outputs": [
    {
     "name": "stdout",
     "output_type": "stream",
     "text": [
      "Оценка точности на TRAIN выборке 1.0\n",
      "Оценка точности на TEST выборке 0.9\n",
      "\n",
      "Confusion matrix показывает, что количество истинно отрицательных - максимальное, \n",
      "что указывает о высокой точности предсказаний.\n",
      "Heatmap для тестовой выборки:\n",
      "\n"
     ]
    },
    {
     "name": "stderr",
     "output_type": "stream",
     "text": [
      "/opt/anaconda3/lib/python3.7/site-packages/sklearn/utils/validation.py:760: DataConversionWarning: A column-vector y was passed when a 1d array was expected. Please change the shape of y to (n_samples, ), for example using ravel().\n",
      "  y = column_or_1d(y, warn=True)\n"
     ]
    },
    {
     "data": {
      "text/plain": [
       "<matplotlib.axes._subplots.AxesSubplot at 0x7f82e33a8650>"
      ]
     },
     "execution_count": 6,
     "metadata": {},
     "output_type": "execute_result"
    },
    {
     "data": {
      "image/png": "[encoded data removed]",
      "text/plain": [
       "<Figure size 432x288 with 2 Axes>"
      ]
     },
     "metadata": {
      "needs_background": "light"
     },
     "output_type": "display_data"
    }
   ],
   "source": [
    "# Вариант 2: поиск минимума через стохастический градиентный пуск\n",
    "clf = make_pipeline(StandardScaler(), SGDClassifier(max_iter=1000, tol=1e-3))\n",
    "clf.fit(X_train, y_train)\n",
    "print(f'Оценка точности на TRAIN выборке {round(clf.score(X_train, y_train), 2)}')\n",
    "print(f'Оценка точности на TEST выборке {round(clf.score(X_test, y_test), 2)}\\n')\n",
    "print(\"Confusion matrix показывает, что количество истинно отрицательных - максимальное, \\n\\\n",
    "что указывает о высокой точности предсказаний.\")\n",
    "print('Heatmap для тестовой выборки:\\n')\n",
    "sn.heatmap(confusion_matrix(y_test, \n",
    "           clf.predict(X_test), \n",
    "           labels=[1, 0],\n",
    "           normalize='pred'), annot=True)"
   ]
  },
  {
   "cell_type": "code",
   "execution_count": 12,
   "metadata": {
    "scrolled": true
   },
   "outputs": [
    {
     "name": "stdout",
     "output_type": "stream",
     "text": [
      "Мин. ошибка 0.005 при альфа N итераций 1572977 с весами:\n",
      " [-15.90698664 -32.02311331  32.15963363  22.10780217]\n",
      "Heatmap для тестовой выборки:\n",
      "\n"
     ]
    },
    {
     "data": {
      "text/plain": [
       "<matplotlib.axes._subplots.AxesSubplot at 0x7f82e437a210>"
      ]
     },
     "execution_count": 12,
     "metadata": {},
     "output_type": "execute_result"
    },
    {
     "data": {
      "image/png": "[encoded data removed]",
      "text/plain": [
       "<Figure size 432x288 with 2 Axes>"
      ]
     },
     "metadata": {
      "needs_background": "light"
     },
     "output_type": "display_data"
    }
   ],
   "source": [
    "# Вариант 3: поиск минимума через сигмоиду методом градиентного спуска\n",
    "# Определяем параметры модели для смещения (веса)\n",
    "W = theano.shared(value=np.zeros((1, X_train.shape[1]), dtype=theano.config.floatX), name='W')\n",
    "\n",
    "# Опредеяем параметры модели\n",
    "x = tensor.matrix('x')\n",
    "y = tensor.ivector('y')\n",
    "\n",
    "# Определяем линейную функцию и границу вероятности\n",
    "linear_function = tensor.dot(x, W[0])\n",
    "sigmoid = tensor.nnet.sigmoid(linear_function)\n",
    "y_pred = lambda sigmoid: 1 if sigmoid > 0.5 else 0\n",
    "\n",
    "# Определяем функцию потерь\n",
    "loss = tensor.nnet.binary_crossentropy(sigmoid, y).mean()\n",
    "\n",
    "# Определяем градиентный спуск для параметров функции\n",
    "gradient_W = tensor.grad(loss, W)\n",
    "updates = [(W, W - 0.04 * gradient_W)]\n",
    "\n",
    "# Компилируем функцию\n",
    "train_function = theano.function([x, y], loss, updates=updates, allow_input_downcast=True)\n",
    "predict_function = theano.function([x], sigmoid)\n",
    "theano.config.exception_verbosity='high'\n",
    "\n",
    "# Начинаем процесс обучения\n",
    "loss = 100\n",
    "iter = 1\n",
    "while loss > 0.005:\n",
    "    loss = train_function(X_train, y_train.T[0])\n",
    "    iter += 1\n",
    "\n",
    "print(f'Мин. ошибка {round(float(loss), 4)} при альфа N итераций {iter} с весами:\\n {W.get_value()[0]}')\n",
    "print('Heatmap для тестовой выборки:\\n')\n",
    "sn.heatmap(confusion_matrix(y_test, \n",
    "           np.array(list(map(y_pred, predict_function(X_test)))), \n",
    "           labels=[1, 0],\n",
    "           normalize='pred'), annot=True)"
   ]
  },
  {
   "cell_type": "code",
   "execution_count": 13,
   "metadata": {},
   "outputs": [
    {
     "name": "stdout",
     "output_type": "stream",
     "text": [
      "Ошибка на обучающий выборке: 0.05, ошибка на тренировочной выборке: 0.251, точность на тренирочной выборке: 0.9\n"
     ]
    }
   ],
   "source": [
    "# Методом nesterov momentum\n",
    "# Определяем входной слой равный размеру тренировочной выборки\n",
    "l_in = InputLayer((X_train.shape[0], X_train.shape[1]))\n",
    "\n",
    "# Полносвязный промежуточный слой\n",
    "l1 = DenseLayer(l_in, num_units=800, nonlinearity=softmax)\n",
    "\n",
    "# Опредеяем параметры модели\n",
    "x = tensor.matrix('x')  # shp: num_batch x num_features\n",
    "y = tensor.ivector('y') # shp: num_batch\n",
    "\n",
    "# Создаем функцию, которая возвращает граф построенной сети\n",
    "l_out = get_output(l1, x)\n",
    "l_out_prediction = lasagne.layers.get_output(l1, x, deterministic=True)\n",
    "\n",
    "# Определяем параметры модели\n",
    "params = lasagne.layers.get_all_params(l1)\n",
    "\n",
    "# Определяем функцию потерь\n",
    "loss = tensor.mean(tensor.nnet.categorical_crossentropy(l_out, y))\n",
    "loss_prediction = tensor.mean(tensor.nnet.categorical_crossentropy(l_out_prediction, y))\n",
    "\n",
    "# Определяем функцию оптимизацию - метод стохастического градиентного спуска с моментом Нестерова\n",
    "updates = nesterov_momentum(loss, params, learning_rate=1e-4, momentum=.9)\n",
    "\n",
    "# Определяем функцию точности классификатора\n",
    "test_acc = tensor.mean(tensor.eq(tensor.argmax(l_out_prediction, axis=1), y), dtype=theano.config.floatX)\n",
    "\n",
    "# Компилируем функцию\n",
    "train_function = theano.function([x, y], loss, updates=updates, allow_input_downcast=True)\n",
    "predict_function = theano.function([x, y], [loss_prediction, test_acc], allow_input_downcast=True)\n",
    "\n",
    "\n",
    "def iterate_minibatches(inputs, targets, batchsize, shuffle=False):\n",
    "    assert inputs.shape[0] == targets.shape[0]\n",
    "    if shuffle:\n",
    "        indices = np.arange(inputs.shape[0])\n",
    "        np.random.shuffle(indices)\n",
    "    for start_idx in range(0, inputs.shape[0], batchsize):\n",
    "        end_idx = min(start_idx + batchsize, inputs.shape[0])\n",
    "        if shuffle:\n",
    "            excerpt = indices[start_idx:end_idx]\n",
    "        else:\n",
    "            excerpt = slice(start_idx, end_idx)\n",
    "        yield inputs[excerpt], targets[excerpt]\n",
    "\n",
    "loss = 100\n",
    "iter = 1\n",
    "while loss > 0.05:\n",
    "    loss = train_function(X_train, y_train.T[0])\n",
    "    err, acc = predict_function(X_test, y_test.T[0])\n",
    "\n",
    "print(f'Ошибка на обучающий выборке: {round(float(loss), 4)}, \\\n",
    "ошибка на тренировочной выборке: {round(float(err), 4)}, точность на тренирочной выборке: {round(float(acc), 4)}')"
   ]
  },
  {
   "cell_type": "code",
   "execution_count": 16,
   "metadata": {},
   "outputs": [
    {
     "name": "stdout",
     "output_type": "stream",
     "text": [
      "Ошибка на обучающий выборке: 0.05, ошибка на тренировочной выборке: 0.2482, точность на тренирочной выборке: 0.9\n"
     ]
    }
   ],
   "source": [
    "# Методом rmsprop\n",
    "# Определяем входной слой равный размеру тренировочной выборки\n",
    "l_in = InputLayer((X_train.shape[0], X_train.shape[1]))\n",
    "\n",
    "# Полносвязный промежуточный слой\n",
    "l1 = DenseLayer(l_in, num_units=800, nonlinearity=softmax)\n",
    "\n",
    "# Опредеяем параметры модели\n",
    "x = tensor.matrix('x')  # shp: num_batch x num_features\n",
    "y = tensor.ivector('y') # shp: num_batch\n",
    "\n",
    "# Создаем функцию, которая возвращает граф построенной сети\n",
    "l_out = get_output(l1, x)\n",
    "l_out_prediction = lasagne.layers.get_output(l1, x, deterministic=True)\n",
    "\n",
    "# Определяем параметры модели\n",
    "params = lasagne.layers.get_all_params(l1)\n",
    "\n",
    "# Определяем функцию потерь\n",
    "loss = tensor.mean(tensor.nnet.categorical_crossentropy(l_out, y))\n",
    "loss_prediction = tensor.mean(tensor.nnet.categorical_crossentropy(l_out_prediction, y))\n",
    "\n",
    "# Определяем функцию оптимизацию - метод стохастического градиентного спуска с моментом Нестерова\n",
    "updates = rmsprop(loss, params, learning_rate=1e-4)\n",
    "\n",
    "# Определяем функцию точности классификатора\n",
    "test_acc = tensor.mean(tensor.eq(tensor.argmax(l_out_prediction, axis=1), y), dtype=theano.config.floatX)\n",
    "\n",
    "# Компилируем функцию\n",
    "train_function = theano.function([x, y], loss, updates=updates, allow_input_downcast=True)\n",
    "predict_function = theano.function([x, y], [loss_prediction, test_acc], allow_input_downcast=True)\n",
    "\n",
    "\n",
    "def iterate_minibatches(inputs, targets, batchsize, shuffle=False):\n",
    "    assert inputs.shape[0] == targets.shape[0]\n",
    "    if shuffle:\n",
    "        indices = np.arange(inputs.shape[0])\n",
    "        np.random.shuffle(indices)\n",
    "    for start_idx in range(0, inputs.shape[0], batchsize):\n",
    "        end_idx = min(start_idx + batchsize, inputs.shape[0])\n",
    "        if shuffle:\n",
    "            excerpt = indices[start_idx:end_idx]\n",
    "        else:\n",
    "            excerpt = slice(start_idx, end_idx)\n",
    "        yield inputs[excerpt], targets[excerpt]\n",
    "\n",
    "loss = 100\n",
    "iter = 1\n",
    "while loss > 0.05:\n",
    "    loss = train_function(X_train, y_train.T[0])\n",
    "    err, acc = predict_function(X_test, y_test.T[0])\n",
    "\n",
    "print(f'Ошибка на обучающий выборке: {round(float(loss), 4)}, \\\n",
    "ошибка на тренировочной выборке: {round(float(err), 4)}, точность на тренирочной выборке: {round(float(acc), 4)}')"
   ]
  }
 ],
 "metadata": {
  "kernelspec": {
   "display_name": "Python 3",
   "language": "python",
   "name": "python3"
  },
  "language_info": {
   "codemirror_mode": {
    "name": "ipython",
    "version": 3
   },
   "file_extension": ".py",
   "mimetype": "text/x-python",
   "name": "python",
   "nbconvert_exporter": "python",
   "pygments_lexer": "ipython3",
   "version": "3.7.6"
  }
 },
 "nbformat": 4,
 "nbformat_minor": 4
}
